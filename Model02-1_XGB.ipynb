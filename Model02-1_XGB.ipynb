{
 "cells": [
  {
   "cell_type": "code",
   "execution_count": 43,
   "metadata": {},
   "outputs": [],
   "source": [
    "import numpy as np\n",
    "import pandas as pd\n",
    "import networkx as nx\n",
    "from IPython.display import display, Image\n",
    "from pathlib import Path\n",
    "import matplotlib.pyplot as plt\n",
    "\n",
    "import datetime\n",
    "\n",
    "from sklearn.model_selection import train_test_split\n",
    "from xgboost import XGBRegressor\n",
    "from sklearn.metrics import mean_squared_error"
   ]
  },
  {
   "cell_type": "code",
   "execution_count": 14,
   "metadata": {},
   "outputs": [],
   "source": [
    "df_test = pd.read_csv('csv/test.csv')\n",
    "info = pd.read_csv('csv/info.csv')\n",
    "df_network = pd.read_csv('csv/network.csv')\n",
    "news = pd.read_csv('csv/covid-19_news.csv')\n",
    "sample_submit = pd.read_csv('csv/sample_submit.csv')\n",
    "df_train = pd.read_csv('csv/train.csv')"
   ]
  },
  {
   "cell_type": "code",
   "execution_count": 15,
   "metadata": {},
   "outputs": [],
   "source": [
    "df_test.date=df_test.date.astype('str')\n",
    "df_test['Arrival'] = df_test['date'].str.cat(df_test['planArrival'],sep=' ')\n",
    "df_test['Arrival'] = pd.to_datetime(df_test.Arrival)\n",
    "\n",
    "df_train.date=df_train.date.astype('str')\n",
    "df_train['Arrival'] = df_train['date'].str.cat(df_train['planArrival'],sep=' ')\n",
    "df_train['Arrival'] = pd.to_datetime(df_train.Arrival)"
   ]
  },
  {
   "cell_type": "code",
   "execution_count": 16,
   "metadata": {},
   "outputs": [
    {
     "data": {
      "text/html": [
       "<div>\n",
       "<style scoped>\n",
       "    .dataframe tbody tr th:only-of-type {\n",
       "        vertical-align: middle;\n",
       "    }\n",
       "\n",
       "    .dataframe tbody tr th {\n",
       "        vertical-align: top;\n",
       "    }\n",
       "\n",
       "    .dataframe thead th {\n",
       "        text-align: right;\n",
       "    }\n",
       "</style>\n",
       "<table border=\"1\" class=\"dataframe\">\n",
       "  <thead>\n",
       "    <tr style=\"text-align: right;\">\n",
       "      <th></th>\n",
       "      <th>id</th>\n",
       "      <th>date</th>\n",
       "      <th>lineName</th>\n",
       "      <th>directionCode</th>\n",
       "      <th>trainNo</th>\n",
       "      <th>stopStation</th>\n",
       "      <th>planArrival</th>\n",
       "      <th>delayTime</th>\n",
       "      <th>Arrival</th>\n",
       "    </tr>\n",
       "  </thead>\n",
       "  <tbody>\n",
       "    <tr>\n",
       "      <th>0</th>\n",
       "      <td>0</td>\n",
       "      <td>20191204</td>\n",
       "      <td>A</td>\n",
       "      <td>1</td>\n",
       "      <td>AFGKvJ</td>\n",
       "      <td>Rlfq</td>\n",
       "      <td>06:11</td>\n",
       "      <td>0.0</td>\n",
       "      <td>2019-12-04 06:11:00</td>\n",
       "    </tr>\n",
       "    <tr>\n",
       "      <th>1</th>\n",
       "      <td>1</td>\n",
       "      <td>20191204</td>\n",
       "      <td>A</td>\n",
       "      <td>1</td>\n",
       "      <td>AFGKvJ</td>\n",
       "      <td>coZB</td>\n",
       "      <td>06:13</td>\n",
       "      <td>0.0</td>\n",
       "      <td>2019-12-04 06:13:00</td>\n",
       "    </tr>\n",
       "    <tr>\n",
       "      <th>2</th>\n",
       "      <td>2</td>\n",
       "      <td>20191204</td>\n",
       "      <td>A</td>\n",
       "      <td>1</td>\n",
       "      <td>AFGKvJ</td>\n",
       "      <td>LMww</td>\n",
       "      <td>06:16</td>\n",
       "      <td>0.0</td>\n",
       "      <td>2019-12-04 06:16:00</td>\n",
       "    </tr>\n",
       "    <tr>\n",
       "      <th>3</th>\n",
       "      <td>3</td>\n",
       "      <td>20191204</td>\n",
       "      <td>A</td>\n",
       "      <td>1</td>\n",
       "      <td>AFGKvJ</td>\n",
       "      <td>VNyR</td>\n",
       "      <td>06:18</td>\n",
       "      <td>0.0</td>\n",
       "      <td>2019-12-04 06:18:00</td>\n",
       "    </tr>\n",
       "    <tr>\n",
       "      <th>4</th>\n",
       "      <td>4</td>\n",
       "      <td>20191204</td>\n",
       "      <td>A</td>\n",
       "      <td>1</td>\n",
       "      <td>AFGKvJ</td>\n",
       "      <td>jhlV</td>\n",
       "      <td>06:20</td>\n",
       "      <td>0.0</td>\n",
       "      <td>2019-12-04 06:20:00</td>\n",
       "    </tr>\n",
       "    <tr>\n",
       "      <th>...</th>\n",
       "      <td>...</td>\n",
       "      <td>...</td>\n",
       "      <td>...</td>\n",
       "      <td>...</td>\n",
       "      <td>...</td>\n",
       "      <td>...</td>\n",
       "      <td>...</td>\n",
       "      <td>...</td>\n",
       "      <td>...</td>\n",
       "    </tr>\n",
       "    <tr>\n",
       "      <th>1488880</th>\n",
       "      <td>1488880</td>\n",
       "      <td>20201022</td>\n",
       "      <td>D</td>\n",
       "      <td>2</td>\n",
       "      <td>zbKwea</td>\n",
       "      <td>BCRD</td>\n",
       "      <td>18:47</td>\n",
       "      <td>0.0</td>\n",
       "      <td>2020-10-22 18:47:00</td>\n",
       "    </tr>\n",
       "    <tr>\n",
       "      <th>1488881</th>\n",
       "      <td>1488881</td>\n",
       "      <td>20201022</td>\n",
       "      <td>D</td>\n",
       "      <td>2</td>\n",
       "      <td>zbKwea</td>\n",
       "      <td>AVjc</td>\n",
       "      <td>18:51</td>\n",
       "      <td>1.0</td>\n",
       "      <td>2020-10-22 18:51:00</td>\n",
       "    </tr>\n",
       "    <tr>\n",
       "      <th>1488882</th>\n",
       "      <td>1488882</td>\n",
       "      <td>20201022</td>\n",
       "      <td>D</td>\n",
       "      <td>2</td>\n",
       "      <td>zbKwea</td>\n",
       "      <td>uYlv</td>\n",
       "      <td>18:53</td>\n",
       "      <td>0.0</td>\n",
       "      <td>2020-10-22 18:53:00</td>\n",
       "    </tr>\n",
       "    <tr>\n",
       "      <th>1488883</th>\n",
       "      <td>1488883</td>\n",
       "      <td>20201022</td>\n",
       "      <td>D</td>\n",
       "      <td>2</td>\n",
       "      <td>zbKwea</td>\n",
       "      <td>wwYD</td>\n",
       "      <td>18:59</td>\n",
       "      <td>0.0</td>\n",
       "      <td>2020-10-22 18:59:00</td>\n",
       "    </tr>\n",
       "    <tr>\n",
       "      <th>1488884</th>\n",
       "      <td>1488884</td>\n",
       "      <td>20201022</td>\n",
       "      <td>D</td>\n",
       "      <td>2</td>\n",
       "      <td>zbKwea</td>\n",
       "      <td>mkGW</td>\n",
       "      <td>19:01</td>\n",
       "      <td>1.0</td>\n",
       "      <td>2020-10-22 19:01:00</td>\n",
       "    </tr>\n",
       "  </tbody>\n",
       "</table>\n",
       "<p>1488885 rows × 9 columns</p>\n",
       "</div>"
      ],
      "text/plain": [
       "              id      date lineName  directionCode trainNo stopStation  \\\n",
       "0              0  20191204        A              1  AFGKvJ        Rlfq   \n",
       "1              1  20191204        A              1  AFGKvJ        coZB   \n",
       "2              2  20191204        A              1  AFGKvJ        LMww   \n",
       "3              3  20191204        A              1  AFGKvJ        VNyR   \n",
       "4              4  20191204        A              1  AFGKvJ        jhlV   \n",
       "...          ...       ...      ...            ...     ...         ...   \n",
       "1488880  1488880  20201022        D              2  zbKwea        BCRD   \n",
       "1488881  1488881  20201022        D              2  zbKwea        AVjc   \n",
       "1488882  1488882  20201022        D              2  zbKwea        uYlv   \n",
       "1488883  1488883  20201022        D              2  zbKwea        wwYD   \n",
       "1488884  1488884  20201022        D              2  zbKwea        mkGW   \n",
       "\n",
       "        planArrival  delayTime             Arrival  \n",
       "0             06:11        0.0 2019-12-04 06:11:00  \n",
       "1             06:13        0.0 2019-12-04 06:13:00  \n",
       "2             06:16        0.0 2019-12-04 06:16:00  \n",
       "3             06:18        0.0 2019-12-04 06:18:00  \n",
       "4             06:20        0.0 2019-12-04 06:20:00  \n",
       "...             ...        ...                 ...  \n",
       "1488880       18:47        0.0 2020-10-22 18:47:00  \n",
       "1488881       18:51        1.0 2020-10-22 18:51:00  \n",
       "1488882       18:53        0.0 2020-10-22 18:53:00  \n",
       "1488883       18:59        0.0 2020-10-22 18:59:00  \n",
       "1488884       19:01        1.0 2020-10-22 19:01:00  \n",
       "\n",
       "[1488885 rows x 9 columns]"
      ]
     },
     "execution_count": 16,
     "metadata": {},
     "output_type": "execute_result"
    }
   ],
   "source": [
    "df_train"
   ]
  },
  {
   "cell_type": "code",
   "execution_count": 22,
   "metadata": {},
   "outputs": [
    {
     "name": "stdout",
     "output_type": "stream",
     "text": [
      "<class 'pandas.core.frame.DataFrame'>\n",
      "Int64Index: 2748114 entries, 0 to 1259228\n",
      "Data columns (total 10 columns):\n",
      " #   Column         Dtype         \n",
      "---  ------         -----         \n",
      " 0   id             int64         \n",
      " 1   date           object        \n",
      " 2   lineName       object        \n",
      " 3   directionCode  int64         \n",
      " 4   trainNo        object        \n",
      " 5   stopStation    object        \n",
      " 6   planArrival    object        \n",
      " 7   delayTime      float64       \n",
      " 8   Arrival        datetime64[ns]\n",
      " 9   target         float64       \n",
      "dtypes: datetime64[ns](1), float64(2), int64(2), object(5)\n",
      "memory usage: 230.6+ MB\n"
     ]
    }
   ],
   "source": [
    "df = pd.concat([df_train,df_test])\n",
    "df.info()"
   ]
  },
  {
   "cell_type": "markdown",
   "metadata": {},
   "source": [
    "# label encoding"
   ]
  },
  {
   "cell_type": "code",
   "execution_count": 30,
   "metadata": {},
   "outputs": [],
   "source": [
    "from sklearn.preprocessing import LabelEncoder\n",
    "le = LabelEncoder()\n",
    "df['lineName_cat'] = le.fit_transform(df['lineName'])\n",
    "df['stopStation_cat'] = le.fit_transform(df['stopStation'])\n",
    "df['Arrival_cat'] = le.fit_transform(df['Arrival'])"
   ]
  },
  {
   "cell_type": "code",
   "execution_count": 55,
   "metadata": {},
   "outputs": [
    {
     "name": "stderr",
     "output_type": "stream",
     "text": [
      "C:\\Users\\kmtk49\\Anaconda3\\envs\\TF2-GPU\\lib\\site-packages\\pandas\\core\\frame.py:4174: SettingWithCopyWarning: \n",
      "A value is trying to be set on a copy of a slice from a DataFrame\n",
      "\n",
      "See the caveats in the documentation: https://pandas.pydata.org/pandas-docs/stable/user_guide/indexing.html#returning-a-view-versus-a-copy\n",
      "  errors=errors,\n",
      "C:\\Users\\kmtk49\\Anaconda3\\envs\\TF2-GPU\\lib\\site-packages\\pandas\\core\\frame.py:4174: SettingWithCopyWarning: \n",
      "A value is trying to be set on a copy of a slice from a DataFrame\n",
      "\n",
      "See the caveats in the documentation: https://pandas.pydata.org/pandas-docs/stable/user_guide/indexing.html#returning-a-view-versus-a-copy\n",
      "  errors=errors,\n"
     ]
    }
   ],
   "source": [
    "\n",
    "df_merge_train = df[df.target != 1]\n",
    "df_merge_target = df_merge_train.delayTime\n",
    "df_merge_train.drop(['target','id','date','planArrival','trainNo',\n",
    "                     'delayTime','lineName','stopStation','Arrival'],\n",
    "                    axis=1,inplace=True)\n",
    "df_merge_test = df[df.target == 1]\n",
    "sub_index = df_merge_test.id\n",
    "df_merge_test.drop(['target','id','date','planArrival','trainNo',\n",
    "                    'delayTime','lineName','stopStation','Arrival'],\n",
    "                        axis=1,inplace=True)"
   ]
  },
  {
   "cell_type": "code",
   "execution_count": 32,
   "metadata": {},
   "outputs": [
    {
     "data": {
      "text/html": [
       "<div>\n",
       "<style scoped>\n",
       "    .dataframe tbody tr th:only-of-type {\n",
       "        vertical-align: middle;\n",
       "    }\n",
       "\n",
       "    .dataframe tbody tr th {\n",
       "        vertical-align: top;\n",
       "    }\n",
       "\n",
       "    .dataframe thead th {\n",
       "        text-align: right;\n",
       "    }\n",
       "</style>\n",
       "<table border=\"1\" class=\"dataframe\">\n",
       "  <thead>\n",
       "    <tr style=\"text-align: right;\">\n",
       "      <th></th>\n",
       "      <th>directionCode</th>\n",
       "      <th>lineName_cat</th>\n",
       "      <th>stopStation_cat</th>\n",
       "      <th>Arrival_cat</th>\n",
       "    </tr>\n",
       "  </thead>\n",
       "  <tbody>\n",
       "    <tr>\n",
       "      <th>0</th>\n",
       "      <td>1</td>\n",
       "      <td>0</td>\n",
       "      <td>37</td>\n",
       "      <td>907</td>\n",
       "    </tr>\n",
       "    <tr>\n",
       "      <th>1</th>\n",
       "      <td>1</td>\n",
       "      <td>0</td>\n",
       "      <td>53</td>\n",
       "      <td>909</td>\n",
       "    </tr>\n",
       "    <tr>\n",
       "      <th>2</th>\n",
       "      <td>1</td>\n",
       "      <td>0</td>\n",
       "      <td>22</td>\n",
       "      <td>912</td>\n",
       "    </tr>\n",
       "    <tr>\n",
       "      <th>3</th>\n",
       "      <td>1</td>\n",
       "      <td>0</td>\n",
       "      <td>44</td>\n",
       "      <td>914</td>\n",
       "    </tr>\n",
       "    <tr>\n",
       "      <th>4</th>\n",
       "      <td>1</td>\n",
       "      <td>0</td>\n",
       "      <td>72</td>\n",
       "      <td>916</td>\n",
       "    </tr>\n",
       "    <tr>\n",
       "      <th>...</th>\n",
       "      <td>...</td>\n",
       "      <td>...</td>\n",
       "      <td>...</td>\n",
       "      <td>...</td>\n",
       "    </tr>\n",
       "    <tr>\n",
       "      <th>1259223</th>\n",
       "      <td>2</td>\n",
       "      <td>3</td>\n",
       "      <td>42</td>\n",
       "      <td>48043</td>\n",
       "    </tr>\n",
       "    <tr>\n",
       "      <th>1259224</th>\n",
       "      <td>2</td>\n",
       "      <td>3</td>\n",
       "      <td>3</td>\n",
       "      <td>48046</td>\n",
       "    </tr>\n",
       "    <tr>\n",
       "      <th>1259225</th>\n",
       "      <td>2</td>\n",
       "      <td>3</td>\n",
       "      <td>2</td>\n",
       "      <td>48050</td>\n",
       "    </tr>\n",
       "    <tr>\n",
       "      <th>1259226</th>\n",
       "      <td>2</td>\n",
       "      <td>3</td>\n",
       "      <td>95</td>\n",
       "      <td>48052</td>\n",
       "    </tr>\n",
       "    <tr>\n",
       "      <th>1259227</th>\n",
       "      <td>2</td>\n",
       "      <td>3</td>\n",
       "      <td>101</td>\n",
       "      <td>48058</td>\n",
       "    </tr>\n",
       "  </tbody>\n",
       "</table>\n",
       "<p>2624839 rows × 4 columns</p>\n",
       "</div>"
      ],
      "text/plain": [
       "         directionCode  lineName_cat  stopStation_cat  Arrival_cat\n",
       "0                    1             0               37          907\n",
       "1                    1             0               53          909\n",
       "2                    1             0               22          912\n",
       "3                    1             0               44          914\n",
       "4                    1             0               72          916\n",
       "...                ...           ...              ...          ...\n",
       "1259223              2             3               42        48043\n",
       "1259224              2             3                3        48046\n",
       "1259225              2             3                2        48050\n",
       "1259226              2             3               95        48052\n",
       "1259227              2             3              101        48058\n",
       "\n",
       "[2624839 rows x 4 columns]"
      ]
     },
     "execution_count": 32,
     "metadata": {},
     "output_type": "execute_result"
    }
   ],
   "source": [
    "df_merge_train"
   ]
  },
  {
   "cell_type": "markdown",
   "metadata": {},
   "source": [
    "# XGBoost\n",
    "https://qiita.com/msrks/items/e3e958c04a5167575c41"
   ]
  },
  {
   "cell_type": "code",
   "execution_count": 40,
   "metadata": {},
   "outputs": [],
   "source": [
    "train_x,test_x,train_y,test_y = train_test_split(df_merge_train,df_merge_target,\n",
    "                                                test_size=0.2,shuffle=True)"
   ]
  },
  {
   "cell_type": "code",
   "execution_count": 42,
   "metadata": {},
   "outputs": [
    {
     "data": {
      "text/plain": [
       "XGBRegressor(base_score=0.5, booster='gbtree', colsample_bylevel=1,\n",
       "             colsample_bynode=1, colsample_bytree=1, gamma=0, gpu_id=-1,\n",
       "             importance_type='gain', interaction_constraints='',\n",
       "             learning_rate=0.300000012, max_delta_step=0, max_depth=6,\n",
       "             min_child_weight=1, missing=nan, monotone_constraints='()',\n",
       "             n_estimators=100, n_jobs=0, num_parallel_tree=1, random_state=0,\n",
       "             reg_alpha=0, reg_lambda=1, scale_pos_weight=1, subsample=1,\n",
       "             tree_method='exact', validate_parameters=1, verbosity=None)"
      ]
     },
     "execution_count": 42,
     "metadata": {},
     "output_type": "execute_result"
    }
   ],
   "source": [
    "reg = XGBRegressor()\n",
    "reg.fit(train_x,train_y)"
   ]
  },
  {
   "cell_type": "code",
   "execution_count": 47,
   "metadata": {},
   "outputs": [
    {
     "name": "stdout",
     "output_type": "stream",
     "text": [
      "14.994338104578805\n",
      "14.73918791240609\n"
     ]
    }
   ],
   "source": [
    "pred_train = reg.predict(train_x)\n",
    "pred_test = reg.predict(test_x)\n",
    "\n",
    "train_y.fillna(0,inplace=True)\n",
    "test_y.fillna(0,inplace=True)\n",
    "print(mean_squared_error(train_y, pred_train))\n",
    "print(mean_squared_error(test_y, pred_test))"
   ]
  },
  {
   "cell_type": "code",
   "execution_count": 75,
   "metadata": {},
   "outputs": [],
   "source": [
    "pred = reg.predict(df_merge_test)\n",
    "pred = pd.DataFrame(pred)"
   ]
  },
  {
   "cell_type": "code",
   "execution_count": 82,
   "metadata": {},
   "outputs": [],
   "source": [
    "sub_id = sub_index.reset_index().drop('index',axis=1)\n",
    "sub = pd.concat([sub_id,pred],axis=1)"
   ]
  },
  {
   "cell_type": "code",
   "execution_count": 86,
   "metadata": {},
   "outputs": [],
   "source": [
    "sub.to_csv(\"./sub/xgb01_20210104.csv\", index=False, header=False)"
   ]
  },
  {
   "cell_type": "code",
   "execution_count": null,
   "metadata": {},
   "outputs": [],
   "source": []
  }
 ],
 "metadata": {
  "kernelspec": {
   "display_name": "Python 3",
   "language": "python",
   "name": "python3"
  },
  "language_info": {
   "codemirror_mode": {
    "name": "ipython",
    "version": 3
   },
   "file_extension": ".py",
   "mimetype": "text/x-python",
   "name": "python",
   "nbconvert_exporter": "python",
   "pygments_lexer": "ipython3",
   "version": "3.7.8"
  }
 },
 "nbformat": 4,
 "nbformat_minor": 4
}
